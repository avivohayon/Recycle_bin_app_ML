{
 "cells": [
  {
   "cell_type": "code",
   "execution_count": 1,
   "id": "56d3c2f0",
   "metadata": {},
   "outputs": [],
   "source": [
    "import tensorflow as tf\n",
    "from tensorflow.keras import models, layers\n"
   ]
  },
  {
   "cell_type": "code",
   "execution_count": 2,
   "id": "dd62faca",
   "metadata": {},
   "outputs": [],
   "source": [
    "import matplotlib\n"
   ]
  },
  {
   "cell_type": "code",
   "execution_count": 3,
   "id": "b950ad26",
   "metadata": {},
   "outputs": [],
   "source": [
    "import matplotlib.pyplot as plt"
   ]
  },
  {
   "cell_type": "code",
   "execution_count": 4,
   "id": "d0666bfb",
   "metadata": {},
   "outputs": [],
   "source": [
    "import numpy as np"
   ]
  },
  {
   "cell_type": "markdown",
   "id": "88e1e7d2",
   "metadata": {},
   "source": [
    "Loading the data into Tensorflow dataset"
   ]
  },
  {
   "cell_type": "code",
   "execution_count": 5,
   "id": "c2809320",
   "metadata": {},
   "outputs": [],
   "source": [
    "IMAGE_SIZE = 256\n",
    "BATCH_SIZE = 16\n",
    "RGB_CHANNELS = 3\n",
    "EPOCHS = 50"
   ]
  },
  {
   "cell_type": "code",
   "execution_count": 6,
   "id": "902cc4f5",
   "metadata": {},
   "outputs": [
    {
     "name": "stdout",
     "output_type": "stream",
     "text": [
      "Found 287 files belonging to 3 classes.\n"
     ]
    }
   ],
   "source": [
    "dataset = tf_dataset = tf.keras.preprocessing.image_dataset_from_directory(\n",
    "    \"pic_dataset\", \n",
    "    shuffle=True,\n",
    "    image_size=(IMAGE_SIZE,IMAGE_SIZE), \n",
    "    batch_size=BATCH_SIZE\n",
    ")"
   ]
  },
  {
   "cell_type": "code",
   "execution_count": 7,
   "id": "90072a8c",
   "metadata": {},
   "outputs": [
    {
     "data": {
      "text/plain": [
       "['blue_bin', 'orange_bin', 'purple_bun']"
      ]
     },
     "execution_count": 7,
     "metadata": {},
     "output_type": "execute_result"
    }
   ],
   "source": [
    "class_names = dataset.class_names\n",
    "class_names"
   ]
  },
  {
   "cell_type": "markdown",
   "id": "d885b51b",
   "metadata": {},
   "source": [
    "Spliting the data:\n",
    "training -> 80%\n",
    "validation -> 10%\n",
    "test -> 10%"
   ]
  },
  {
   "cell_type": "code",
   "execution_count": 8,
   "id": "539b6a3c",
   "metadata": {},
   "outputs": [
    {
     "data": {
      "text/plain": [
       "18"
      ]
     },
     "execution_count": 8,
     "metadata": {},
     "output_type": "execute_result"
    }
   ],
   "source": [
    "len(dataset)"
   ]
  },
  {
   "cell_type": "code",
   "execution_count": 9,
   "id": "fb8ec60f",
   "metadata": {},
   "outputs": [],
   "source": [
    "def get_partition_tf(ds, tarin_split=0.8, val_split=0.1, test_split=0.1, shuffle=True, shuffle_size = 100):\n",
    "    train_size = tarin_split\n",
    "    val_size = val_split\n",
    "    test_size = test_split\n",
    "    if shuffle:\n",
    "        ds = ds.shuffle(shuffle_size, seed=8)\n",
    "        \n",
    "    train_dataset = ds.take(int(len(ds) * train_size))\n",
    "    test_dataset = ds.skip(len(train_dataset))\n",
    "    val_dataset = test_dataset.take(int(len(ds)*val_size))\n",
    "    test_dataset = test_dataset.skip(len(val_dataset))\n",
    "    return train_dataset, val_dataset, test_dataset\n",
    "    "
   ]
  },
  {
   "cell_type": "code",
   "execution_count": 10,
   "id": "7c16bc12",
   "metadata": {},
   "outputs": [],
   "source": [
    "train_dataset, val_dataset, test_dataset = get_partition_tf(dataset)"
   ]
  },
  {
   "cell_type": "markdown",
   "id": "c5456284",
   "metadata": {},
   "source": [
    "chaching data to improve preformance"
   ]
  },
  {
   "cell_type": "code",
   "execution_count": 11,
   "id": "bd78f2bd",
   "metadata": {},
   "outputs": [],
   "source": [
    "train_dataset = train_dataset.cache().shuffle(100).prefetch(buffer_size=tf.data.AUTOTUNE)\n",
    "val_dataset = val_dataset.cache().shuffle(100).prefetch(buffer_size=tf.data.AUTOTUNE)\n",
    "test_dataset = test_dataset.cache().shuffle(100).prefetch(buffer_size=tf.data.AUTOTUNE)"
   ]
  },
  {
   "cell_type": "markdown",
   "id": "bf27d3f0",
   "metadata": {},
   "source": [
    "preprocessing the data. resize, rescale and use data augmentation\n",
    "\n",
    "first, creating the layers for preprocessing"
   ]
  },
  {
   "cell_type": "code",
   "execution_count": 12,
   "id": "9b49b653",
   "metadata": {},
   "outputs": [],
   "source": [
    "resize_rescale_layer = tf.keras.Sequential([\n",
    "    layers.experimental.preprocessing.Resizing(IMAGE_SIZE, IMAGE_SIZE),\n",
    "    layers.experimental.preprocessing.Rescaling(1.0/255)\n",
    "])"
   ]
  },
  {
   "cell_type": "code",
   "execution_count": 13,
   "id": "2f84c7d4",
   "metadata": {},
   "outputs": [],
   "source": [
    "data_augmentation_layer = tf.keras.Sequential([\n",
    "    layers.experimental.preprocessing.RandomFlip(\"horizontal_and_vertical\"),\n",
    "    layers.experimental.preprocessing.RandomRotation(0.2)\n",
    "])"
   ]
  },
  {
   "cell_type": "markdown",
   "id": "0d2c0222",
   "metadata": {},
   "source": [
    "second, we build the CNN (convolution neural network) model by connecting:\n",
    "preprocessing layers -> data_augmentation_layer -> Cov layer -> polling layer... -> flaten data"
   ]
  },
  {
   "cell_type": "code",
   "execution_count": 14,
   "id": "74d355f7",
   "metadata": {},
   "outputs": [],
   "source": [
    "input_shape = (BATCH_SIZE, IMAGE_SIZE, IMAGE_SIZE, RGB_CHANNELS)\n",
    "num_of_classes = 3\n",
    "model = models.Sequential([\n",
    "    resize_rescale_layer, \n",
    "    data_augmentation_layer,\n",
    "    layers.Conv2D(16, (3,3), activation='relu', input_shape=input_shape),\n",
    "    layers.MaxPooling2D((2,2)),\n",
    "    layers.Conv2D(32, (3,3), activation='relu'),\n",
    "    layers.MaxPooling2D((2,2)),\n",
    "    layers.Conv2D(32, (3,3), activation='relu'),\n",
    "    layers.MaxPooling2D((2,2)),\n",
    "    layers.Conv2D(32, (3,3), activation='relu'),\n",
    "    layers.MaxPooling2D((2,2)),\n",
    "    layers.Flatten(),\n",
    "    layers.Dense(64, activation='relu'),\n",
    "    layers.Dense(num_of_classes, activation='softmax')\n",
    "    \n",
    "])\n",
    "\n",
    "model.build(input_shape=input_shape)"
   ]
  },
  {
   "cell_type": "code",
   "execution_count": 15,
   "id": "a921f8a7",
   "metadata": {},
   "outputs": [
    {
     "name": "stdout",
     "output_type": "stream",
     "text": [
      "Model: \"sequential_2\"\n",
      "_________________________________________________________________\n",
      " Layer (type)                Output Shape              Param #   \n",
      "=================================================================\n",
      " sequential (Sequential)     (16, 256, 256, 3)         0         \n",
      "                                                                 \n",
      " sequential_1 (Sequential)   (16, 256, 256, 3)         0         \n",
      "                                                                 \n",
      " conv2d (Conv2D)             (16, 254, 254, 16)        448       \n",
      "                                                                 \n",
      " max_pooling2d (MaxPooling2D  (16, 127, 127, 16)       0         \n",
      " )                                                               \n",
      "                                                                 \n",
      " conv2d_1 (Conv2D)           (16, 125, 125, 32)        4640      \n",
      "                                                                 \n",
      " max_pooling2d_1 (MaxPooling  (16, 62, 62, 32)         0         \n",
      " 2D)                                                             \n",
      "                                                                 \n",
      " conv2d_2 (Conv2D)           (16, 60, 60, 32)          9248      \n",
      "                                                                 \n",
      " max_pooling2d_2 (MaxPooling  (16, 30, 30, 32)         0         \n",
      " 2D)                                                             \n",
      "                                                                 \n",
      " conv2d_3 (Conv2D)           (16, 28, 28, 32)          9248      \n",
      "                                                                 \n",
      " max_pooling2d_3 (MaxPooling  (16, 14, 14, 32)         0         \n",
      " 2D)                                                             \n",
      "                                                                 \n",
      " flatten (Flatten)           (16, 6272)                0         \n",
      "                                                                 \n",
      " dense (Dense)               (16, 64)                  401472    \n",
      "                                                                 \n",
      " dense_1 (Dense)             (16, 3)                   195       \n",
      "                                                                 \n",
      "=================================================================\n",
      "Total params: 425,251\n",
      "Trainable params: 425,251\n",
      "Non-trainable params: 0\n",
      "_________________________________________________________________\n"
     ]
    }
   ],
   "source": [
    "model.summary()"
   ]
  },
  {
   "cell_type": "code",
   "execution_count": 16,
   "id": "806ace58",
   "metadata": {},
   "outputs": [],
   "source": [
    "model.compile(\n",
    "    optimizer='adam',\n",
    "    loss=tf.keras.losses.SparseCategoricalCrossentropy(from_logits=False),\n",
    "    metrics=['accuracy']\n",
    ")"
   ]
  },
  {
   "cell_type": "code",
   "execution_count": 17,
   "id": "f7c5468b",
   "metadata": {},
   "outputs": [
    {
     "name": "stdout",
     "output_type": "stream",
     "text": [
      "Epoch 1/50\n",
      "14/14 [==============================] - 8s 362ms/step - loss: 1.0150 - accuracy: 0.4619 - val_loss: 0.8695 - val_accuracy: 0.4375\n",
      "Epoch 2/50\n",
      "14/14 [==============================] - 3s 232ms/step - loss: 0.6524 - accuracy: 0.7578 - val_loss: 0.4519 - val_accuracy: 0.7500\n",
      "Epoch 3/50\n",
      "14/14 [==============================] - 4s 269ms/step - loss: 0.5676 - accuracy: 0.7758 - val_loss: 0.4203 - val_accuracy: 0.7500\n",
      "Epoch 4/50\n",
      "14/14 [==============================] - 4s 274ms/step - loss: 0.4679 - accuracy: 0.7848 - val_loss: 0.3272 - val_accuracy: 0.8125\n",
      "Epoch 5/50\n",
      "14/14 [==============================] - 4s 251ms/step - loss: 0.3485 - accuracy: 0.8341 - val_loss: 0.3158 - val_accuracy: 0.8750\n",
      "Epoch 6/50\n",
      "14/14 [==============================] - 3s 244ms/step - loss: 0.3667 - accuracy: 0.8341 - val_loss: 0.3572 - val_accuracy: 0.9375\n",
      "Epoch 7/50\n",
      "14/14 [==============================] - 3s 232ms/step - loss: 0.3273 - accuracy: 0.8386 - val_loss: 0.2987 - val_accuracy: 0.8750\n",
      "Epoch 8/50\n",
      "14/14 [==============================] - 3s 245ms/step - loss: 0.3203 - accuracy: 0.8924 - val_loss: 0.2234 - val_accuracy: 0.9375\n",
      "Epoch 9/50\n",
      "14/14 [==============================] - 3s 239ms/step - loss: 0.2259 - accuracy: 0.9193 - val_loss: 0.2148 - val_accuracy: 0.9375\n",
      "Epoch 10/50\n",
      "14/14 [==============================] - 3s 234ms/step - loss: 0.2541 - accuracy: 0.9103 - val_loss: 0.1648 - val_accuracy: 0.9375\n",
      "Epoch 11/50\n",
      "14/14 [==============================] - 3s 238ms/step - loss: 0.2296 - accuracy: 0.9103 - val_loss: 0.1126 - val_accuracy: 0.9375\n",
      "Epoch 12/50\n",
      "14/14 [==============================] - 4s 263ms/step - loss: 0.2973 - accuracy: 0.8969 - val_loss: 0.2121 - val_accuracy: 0.8750\n",
      "Epoch 13/50\n",
      "14/14 [==============================] - 3s 224ms/step - loss: 0.2270 - accuracy: 0.9193 - val_loss: 0.2486 - val_accuracy: 0.9375\n",
      "Epoch 14/50\n",
      "14/14 [==============================] - 3s 208ms/step - loss: 0.1846 - accuracy: 0.9417 - val_loss: 0.0782 - val_accuracy: 1.0000\n",
      "Epoch 15/50\n",
      "14/14 [==============================] - 3s 246ms/step - loss: 0.1804 - accuracy: 0.9372 - val_loss: 0.2592 - val_accuracy: 0.9375\n",
      "Epoch 16/50\n",
      "14/14 [==============================] - 3s 238ms/step - loss: 0.1805 - accuracy: 0.9327 - val_loss: 0.3442 - val_accuracy: 0.8750\n",
      "Epoch 17/50\n",
      "14/14 [==============================] - 3s 240ms/step - loss: 0.2161 - accuracy: 0.9283 - val_loss: 0.0771 - val_accuracy: 1.0000\n",
      "Epoch 18/50\n",
      "14/14 [==============================] - 4s 260ms/step - loss: 0.2129 - accuracy: 0.9238 - val_loss: 0.2824 - val_accuracy: 0.8750\n",
      "Epoch 19/50\n",
      "14/14 [==============================] - 4s 252ms/step - loss: 0.1993 - accuracy: 0.9283 - val_loss: 0.0840 - val_accuracy: 1.0000\n",
      "Epoch 20/50\n",
      "14/14 [==============================] - 4s 277ms/step - loss: 0.1555 - accuracy: 0.9641 - val_loss: 0.1537 - val_accuracy: 0.9375\n",
      "Epoch 21/50\n",
      "14/14 [==============================] - 4s 267ms/step - loss: 0.1424 - accuracy: 0.9596 - val_loss: 0.2438 - val_accuracy: 0.9375\n",
      "Epoch 22/50\n",
      "14/14 [==============================] - 4s 266ms/step - loss: 0.1576 - accuracy: 0.9462 - val_loss: 0.0784 - val_accuracy: 0.9375\n",
      "Epoch 23/50\n",
      "14/14 [==============================] - 4s 257ms/step - loss: 0.1178 - accuracy: 0.9686 - val_loss: 0.1611 - val_accuracy: 0.9375\n",
      "Epoch 24/50\n",
      "14/14 [==============================] - 3s 239ms/step - loss: 0.1258 - accuracy: 0.9596 - val_loss: 0.1374 - val_accuracy: 0.9375\n",
      "Epoch 25/50\n",
      "14/14 [==============================] - 3s 236ms/step - loss: 0.1281 - accuracy: 0.9552 - val_loss: 0.2740 - val_accuracy: 0.9375\n",
      "Epoch 26/50\n",
      "14/14 [==============================] - 4s 286ms/step - loss: 0.1370 - accuracy: 0.9552 - val_loss: 0.0529 - val_accuracy: 1.0000\n",
      "Epoch 27/50\n",
      "14/14 [==============================] - 4s 270ms/step - loss: 0.1519 - accuracy: 0.9507 - val_loss: 0.1026 - val_accuracy: 0.9375\n",
      "Epoch 28/50\n",
      "14/14 [==============================] - 3s 245ms/step - loss: 0.1078 - accuracy: 0.9641 - val_loss: 0.0805 - val_accuracy: 0.9375\n",
      "Epoch 29/50\n",
      "14/14 [==============================] - 3s 239ms/step - loss: 0.0998 - accuracy: 0.9641 - val_loss: 0.0764 - val_accuracy: 0.9375\n",
      "Epoch 30/50\n",
      "14/14 [==============================] - 3s 246ms/step - loss: 0.0846 - accuracy: 0.9686 - val_loss: 0.0512 - val_accuracy: 1.0000\n",
      "Epoch 31/50\n",
      "14/14 [==============================] - 3s 248ms/step - loss: 0.0882 - accuracy: 0.9641 - val_loss: 0.0567 - val_accuracy: 1.0000\n",
      "Epoch 32/50\n",
      "14/14 [==============================] - 4s 266ms/step - loss: 0.0861 - accuracy: 0.9731 - val_loss: 0.0713 - val_accuracy: 0.9375\n",
      "Epoch 33/50\n",
      "14/14 [==============================] - 3s 244ms/step - loss: 0.0839 - accuracy: 0.9641 - val_loss: 0.0725 - val_accuracy: 1.0000\n",
      "Epoch 34/50\n",
      "14/14 [==============================] - 4s 269ms/step - loss: 0.0898 - accuracy: 0.9641 - val_loss: 0.0787 - val_accuracy: 0.9375\n",
      "Epoch 35/50\n",
      "14/14 [==============================] - 4s 264ms/step - loss: 0.0821 - accuracy: 0.9641 - val_loss: 0.1092 - val_accuracy: 0.9375\n",
      "Epoch 36/50\n",
      "14/14 [==============================] - 3s 236ms/step - loss: 0.1172 - accuracy: 0.9417 - val_loss: 0.0582 - val_accuracy: 1.0000\n",
      "Epoch 37/50\n",
      "14/14 [==============================] - 4s 252ms/step - loss: 0.1379 - accuracy: 0.9417 - val_loss: 0.2038 - val_accuracy: 0.8750\n",
      "Epoch 38/50\n",
      "14/14 [==============================] - 4s 295ms/step - loss: 0.1411 - accuracy: 0.9507 - val_loss: 0.0767 - val_accuracy: 0.9375\n",
      "Epoch 39/50\n",
      "14/14 [==============================] - 4s 269ms/step - loss: 0.1174 - accuracy: 0.9507 - val_loss: 0.0229 - val_accuracy: 1.0000\n",
      "Epoch 40/50\n",
      "14/14 [==============================] - 4s 251ms/step - loss: 0.1061 - accuracy: 0.9596 - val_loss: 0.0443 - val_accuracy: 1.0000\n",
      "Epoch 41/50\n",
      "14/14 [==============================] - 3s 238ms/step - loss: 0.0776 - accuracy: 0.9731 - val_loss: 0.0308 - val_accuracy: 1.0000\n",
      "Epoch 42/50\n",
      "14/14 [==============================] - 3s 246ms/step - loss: 0.0650 - accuracy: 0.9731 - val_loss: 0.0443 - val_accuracy: 1.0000\n",
      "Epoch 43/50\n",
      "14/14 [==============================] - 4s 248ms/step - loss: 0.0728 - accuracy: 0.9776 - val_loss: 0.0387 - val_accuracy: 1.0000\n",
      "Epoch 44/50\n",
      "14/14 [==============================] - 3s 249ms/step - loss: 0.0685 - accuracy: 0.9731 - val_loss: 0.0405 - val_accuracy: 1.0000\n",
      "Epoch 45/50\n",
      "14/14 [==============================] - 4s 264ms/step - loss: 0.0595 - accuracy: 0.9776 - val_loss: 0.0439 - val_accuracy: 1.0000\n",
      "Epoch 46/50\n",
      "14/14 [==============================] - 3s 232ms/step - loss: 0.0765 - accuracy: 0.9641 - val_loss: 0.0189 - val_accuracy: 1.0000\n",
      "Epoch 47/50\n",
      "14/14 [==============================] - 3s 234ms/step - loss: 0.0981 - accuracy: 0.9641 - val_loss: 0.0473 - val_accuracy: 1.0000\n",
      "Epoch 48/50\n",
      "14/14 [==============================] - 3s 232ms/step - loss: 0.0744 - accuracy: 0.9686 - val_loss: 0.0303 - val_accuracy: 1.0000\n",
      "Epoch 49/50\n",
      "14/14 [==============================] - 3s 236ms/step - loss: 0.0885 - accuracy: 0.9596 - val_loss: 0.0939 - val_accuracy: 0.9375\n",
      "Epoch 50/50\n",
      "14/14 [==============================] - 3s 238ms/step - loss: 0.1290 - accuracy: 0.9462 - val_loss: 0.0245 - val_accuracy: 1.0000\n"
     ]
    }
   ],
   "source": [
    "history = model.fit(\n",
    "    train_dataset, epochs=EPOCHS, batch_size=BATCH_SIZE, verbose=1, validation_data=val_dataset)"
   ]
  },
  {
   "cell_type": "code",
   "execution_count": 18,
   "id": "2cd8152a",
   "metadata": {},
   "outputs": [
    {
     "name": "stdout",
     "output_type": "stream",
     "text": [
      "3/3 [==============================] - 1s 31ms/step - loss: 0.1737 - accuracy: 0.9583\n"
     ]
    }
   ],
   "source": [
    "scores = model.evaluate(test_dataset)\n"
   ]
  },
  {
   "cell_type": "code",
   "execution_count": 19,
   "id": "917832c4",
   "metadata": {},
   "outputs": [
    {
     "data": {
      "text/plain": [
       "[0.1736697405576706, 0.9583333134651184]"
      ]
     },
     "execution_count": 19,
     "metadata": {},
     "output_type": "execute_result"
    }
   ],
   "source": [
    "scores"
   ]
  },
  {
   "cell_type": "code",
   "execution_count": 20,
   "id": "891ecc4d",
   "metadata": {},
   "outputs": [
    {
     "data": {
      "text/plain": [
       "dict_keys(['loss', 'accuracy', 'val_loss', 'val_accuracy'])"
      ]
     },
     "execution_count": 20,
     "metadata": {},
     "output_type": "execute_result"
    }
   ],
   "source": [
    "history.history.keys()\n"
   ]
  },
  {
   "cell_type": "code",
   "execution_count": 21,
   "id": "fde9cf6f",
   "metadata": {},
   "outputs": [],
   "source": [
    "acc = history.history['accuracy']\n",
    "val_acc = history.history['val_accuracy']\n",
    "\n",
    "loss = history.history['loss']\n",
    "val_loss = history.history['val_loss']"
   ]
  },
  {
   "cell_type": "code",
   "execution_count": 32,
   "id": "06a0611a",
   "metadata": {},
   "outputs": [
    {
     "name": "stdout",
     "output_type": "stream",
     "text": [
      "1/1 [==============================] - 0s 42ms/step\n",
      "real label is: orange_bin, predict: orange_bin\n"
     ]
    }
   ],
   "source": [
    "for image_batch, labels_batch in test_dataset.take(1):\n",
    "    img = image_batch[5].numpy().astype(\"int8\")\n",
    "    label = labels_batch[5].numpy()\n",
    "    \n",
    "    \n",
    "    pred = model.predict(image_batch)\n",
    "    print(f\"real label is: {class_names[label]}, predict: {class_names[np.argmax(pred[5])]}\")\n",
    "    \n"
   ]
  },
  {
   "cell_type": "code",
   "execution_count": 33,
   "id": "a0278d8c",
   "metadata": {},
   "outputs": [],
   "source": [
    "def predict(model, img):\n",
    "    img_array = tf.keras.preprocessing.image.img_to_array(images[i].numpy())\n",
    "    img_array = tf.expand_dims(img_array, 0)\n",
    "\n",
    "    predictions = model.predict(img_array)\n",
    "\n",
    "    predicted_class = class_names[np.argmax(predictions[0])]\n",
    "    confidence = round(100 * (np.max(predictions[0])), 2)\n",
    "    return predicted_class, confidence"
   ]
  },
  {
   "cell_type": "code",
   "execution_count": 45,
   "id": "107d2a55",
   "metadata": {},
   "outputs": [
    {
     "name": "stderr",
     "output_type": "stream",
     "text": [
      "WARNING:absl:Found untraced functions such as _jit_compiled_convolution_op, _jit_compiled_convolution_op, _jit_compiled_convolution_op, _jit_compiled_convolution_op while saving (showing 4 of 4). These functions will not be directly callable after loading.\n"
     ]
    },
    {
     "name": "stdout",
     "output_type": "stream",
     "text": [
      "INFO:tensorflow:Assets written to: ../models/3\\assets\n"
     ]
    },
    {
     "name": "stderr",
     "output_type": "stream",
     "text": [
      "INFO:tensorflow:Assets written to: ../models/3\\assets\n"
     ]
    }
   ],
   "source": [
    "import os\n",
    "model_ver = max([int(i) for i in os.listdir(\"../models\")]) + 1\n",
    "model_ver\n",
    "model.save(f\"../models/{model_ver}\")"
   ]
  },
  {
   "cell_type": "code",
   "execution_count": 44,
   "id": "c96c1a83",
   "metadata": {},
   "outputs": [
    {
     "name": "stderr",
     "output_type": "stream",
     "text": [
      "WARNING:absl:Found untraced functions such as _jit_compiled_convolution_op, _jit_compiled_convolution_op, _jit_compiled_convolution_op, _jit_compiled_convolution_op while saving (showing 4 of 4). These functions will not be directly callable after loading.\n"
     ]
    },
    {
     "name": "stdout",
     "output_type": "stream",
     "text": [
      "INFO:tensorflow:Assets written to: ../models/2\\assets\n"
     ]
    },
    {
     "name": "stderr",
     "output_type": "stream",
     "text": [
      "INFO:tensorflow:Assets written to: ../models/2\\assets\n"
     ]
    }
   ],
   "source": []
  },
  {
   "cell_type": "code",
   "execution_count": null,
   "id": "bd761b4b",
   "metadata": {},
   "outputs": [],
   "source": []
  },
  {
   "cell_type": "code",
   "execution_count": null,
   "id": "74e32f8f",
   "metadata": {},
   "outputs": [],
   "source": []
  }
 ],
 "metadata": {
  "kernelspec": {
   "display_name": "Python 3 (ipykernel)",
   "language": "python",
   "name": "python3"
  },
  "language_info": {
   "codemirror_mode": {
    "name": "ipython",
    "version": 3
   },
   "file_extension": ".py",
   "mimetype": "text/x-python",
   "name": "python",
   "nbconvert_exporter": "python",
   "pygments_lexer": "ipython3",
   "version": "3.9.16"
  }
 },
 "nbformat": 4,
 "nbformat_minor": 5
}
